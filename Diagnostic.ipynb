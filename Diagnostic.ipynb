{
  "nbformat": 4,
  "nbformat_minor": 0,
  "metadata": {
    "colab": {
      "provenance": [],
      "include_colab_link": true
    },
    "kernelspec": {
      "name": "python3",
      "display_name": "Python 3"
    },
    "language_info": {
      "name": "python"
    }
  },
  "cells": [
    {
      "cell_type": "markdown",
      "metadata": {
        "id": "view-in-github",
        "colab_type": "text"
      },
      "source": [
        "<a href=\"https://colab.research.google.com/github/AI-fanatic24/Breast-Cancer-Classification/blob/Diagnostic-model/Diagnostic.ipynb\" target=\"_parent\"><img src=\"https://colab.research.google.com/assets/colab-badge.svg\" alt=\"Open In Colab\"/></a>"
      ]
    },
    {
      "cell_type": "code",
      "source": [
        "import numpy as np\n",
        "import pandas as pd\n",
        "import matplotlib.pyplot as plt\n",
        "import seaborn as sns\n",
        "from scipy.stats.mstats import winsorize\n",
        "from sklearn.preprocessing import LabelEncoder"
      ],
      "metadata": {
        "id": "NnICeEu8Uk50"
      },
      "execution_count": null,
      "outputs": []
    },
    {
      "cell_type": "code",
      "execution_count": null,
      "metadata": {
        "id": "byrnrIGUvknT"
      },
      "outputs": [],
      "source": [
        "pip install ucimlrepo"
      ]
    },
    {
      "cell_type": "code",
      "source": [
        "from ucimlrepo import fetch_ucirepo\n",
        "\n",
        "# fetch dataset\n",
        "breast_cancer_wisconsin_diagnostic = fetch_ucirepo(id=17)\n",
        "\n",
        "# data (as pandas dataframes)\n",
        "X = breast_cancer_wisconsin_diagnostic.data.features\n",
        "y = breast_cancer_wisconsin_diagnostic.data.targets\n",
        "\n",
        "# metadata\n",
        "print(breast_cancer_wisconsin_diagnostic.metadata)\n",
        "\n",
        "# variable information\n",
        "print(breast_cancer_wisconsin_diagnostic.variables)\n"
      ],
      "metadata": {
        "id": "ZHMKx-mgvsDP"
      },
      "execution_count": null,
      "outputs": []
    },
    {
      "cell_type": "code",
      "source": [
        "df = pd.concat([X,y],axis=1)\n",
        "df"
      ],
      "metadata": {
        "id": "Z8bA3H1tUR69"
      },
      "execution_count": null,
      "outputs": []
    },
    {
      "cell_type": "code",
      "source": [
        "df.info()"
      ],
      "metadata": {
        "id": "ixQPFWhLTH5S"
      },
      "execution_count": null,
      "outputs": []
    },
    {
      "cell_type": "code",
      "source": [
        "df.describe()"
      ],
      "metadata": {
        "id": "HRg0SDTQTxmY"
      },
      "execution_count": null,
      "outputs": []
    },
    {
      "cell_type": "markdown",
      "source": [
        "**CHECKING PRESENCE OF NULL VALUES**"
      ],
      "metadata": {
        "id": "H_SOwMPIVCvT"
      }
    },
    {
      "cell_type": "code",
      "source": [
        "#checking presence of null values\n",
        "df.isnull().sum()"
      ],
      "metadata": {
        "id": "9wU8jMkPwD7f"
      },
      "execution_count": null,
      "outputs": []
    },
    {
      "cell_type": "code",
      "source": [
        "sns.set(rc={'figure.figsize':(15,10)})\n",
        "sns.heatmap(df.isnull())\n",
        "plt.title(\"HEATMAP OF NULL VALUES\",fontdict={'family':'serif','fontsize':15,'color':'black','fontweight':'bold'})\n",
        "plt.show()"
      ],
      "metadata": {
        "id": "OKemghM_2AK5"
      },
      "execution_count": null,
      "outputs": []
    },
    {
      "cell_type": "markdown",
      "source": [
        "**VISUALIZING OUTLIERS**"
      ],
      "metadata": {
        "id": "ta0VXSqfU-Lk"
      }
    },
    {
      "cell_type": "code",
      "source": [
        "sns.set(rc={'figure.figsize':(20,20)})\n",
        "for i in range(len(df.columns[:-1])):\n",
        "  plt.subplot(6,5,(i+1))\n",
        "  sns.boxplot(x=df.iloc[:,i])\n",
        "\n",
        "plt.tight_layout()\n",
        "\n",
        "plt.show()"
      ],
      "metadata": {
        "id": "jemcKGlrVJLP"
      },
      "execution_count": null,
      "outputs": []
    },
    {
      "cell_type": "code",
      "source": [
        "sns.set(rc={'figure.figsize':(20,20)})\n",
        "for i in range(len(df.columns[:-1])):\n",
        "  plt.subplot(6,5,(i+1))\n",
        "  sns.histplot(x=df.iloc[:,i],bins=20,kde=True)\n",
        "\n",
        "plt.tight_layout()\n",
        "\n",
        "plt.show()"
      ],
      "metadata": {
        "id": "6_Lh8xlCY_r2"
      },
      "execution_count": null,
      "outputs": []
    },
    {
      "cell_type": "code",
      "source": [
        "columns = df.columns\n",
        "print(\"----MEDIAN OF FEATURES----\")\n",
        "for i in range(len(df.columns[:-1])):\n",
        "  print(columns[i],\":\",df.iloc[:,i].median())"
      ],
      "metadata": {
        "id": "Zc8dE7oiaXHn"
      },
      "execution_count": null,
      "outputs": []
    },
    {
      "cell_type": "markdown",
      "source": [
        "NOW, LABEL ENCODING THE TARGET VARIABLE"
      ],
      "metadata": {
        "id": "Z4reNbD2eBIV"
      }
    },
    {
      "cell_type": "code",
      "source": [
        "#Label Encoding as:\n",
        "# 1 = Malignant\n",
        "# 0 = Benign\n",
        "\n",
        "le = LabelEncoder()\n",
        "df['Diagnosis'] = le.fit_transform(df['Diagnosis'])\n",
        "df"
      ],
      "metadata": {
        "id": "Ob4KX9_idh5G"
      },
      "execution_count": null,
      "outputs": []
    },
    {
      "cell_type": "code",
      "source": [
        "df['Diagnosis'].value_counts()"
      ],
      "metadata": {
        "id": "nXvW0oJwfUDy"
      },
      "execution_count": null,
      "outputs": []
    },
    {
      "cell_type": "code",
      "source": [
        "fontdict = {'family':'serif','fontsize':10,'color':'black','fontweight':'bold'}"
      ],
      "metadata": {
        "id": "MUAlRiTllNwy"
      },
      "execution_count": null,
      "outputs": []
    },
    {
      "cell_type": "code",
      "source": [
        "sns.set(rc={'figure.figsize':(5,4)})\n",
        "sns.countplot(df,x='Diagnosis')\n",
        "plt.title(\"COUNT OF MALIGNANT (CLASS 1) AND BENIGN (CLASS 0) TUMORS\",fontdict=fontdict)\n",
        "plt.show()"
      ],
      "metadata": {
        "id": "ktaRP1EqQBMu"
      },
      "execution_count": null,
      "outputs": []
    },
    {
      "cell_type": "code",
      "source": [
        "sns.set(rc={'figure.figsize':(30,30)})\n",
        "corr = df.corr()\n",
        "sns.heatmap(corr,annot=True,cmap='coolwarm')\n",
        "plt.title(\"CORRELATION MAP\",fontdict={'family':'serif','fontsize':40,'color':'black','fontweight':'bold'})\n",
        "plt.show()"
      ],
      "metadata": {
        "id": "5Z2mwh2pZUm0"
      },
      "execution_count": null,
      "outputs": []
    },
    {
      "cell_type": "code",
      "source": [
        "df.columns"
      ],
      "metadata": {
        "id": "lLcZZVnPilNT"
      },
      "execution_count": null,
      "outputs": []
    },
    {
      "cell_type": "markdown",
      "source": [
        "**VISUALIZING TRENDS OF DIAGNOSIS ACROSS VARIOUS FEATURES**"
      ],
      "metadata": {
        "id": "w70Xyn1toGB_"
      }
    },
    {
      "cell_type": "code",
      "source": [
        "sns.set(rc={'figure.figsize':(40,40)})\n",
        "sns.pairplot(df[['radius1', 'texture1', 'perimeter1', 'area1', 'smoothness1','compactness1', 'concavity1', 'concave_points1', 'symmetry1',\n",
        "       'fractal_dimension1','Diagnosis']],hue='Diagnosis')\n",
        "plt.show()"
      ],
      "metadata": {
        "id": "TUhmzVl-ZUpQ"
      },
      "execution_count": null,
      "outputs": []
    },
    {
      "cell_type": "code",
      "source": [
        "sns.set(rc={'figure.figsize':(40,40)})\n",
        "sns.pairplot(df[['radius2', 'texture2', 'perimeter2', 'area2',\n",
        "       'smoothness2', 'compactness2', 'concavity2', 'concave_points2',\n",
        "       'symmetry2', 'fractal_dimension2','Diagnosis']],hue='Diagnosis')\n",
        "plt.show()"
      ],
      "metadata": {
        "id": "8q4XPuAwlbAA"
      },
      "execution_count": null,
      "outputs": []
    },
    {
      "cell_type": "code",
      "source": [
        "sns.set(rc={'figure.figsize':(40,40)})\n",
        "sns.pairplot(df[['radius3', 'texture3', 'perimeter3',\n",
        "       'area3', 'smoothness3', 'compactness3', 'concavity3', 'concave_points3',\n",
        "       'symmetry3', 'fractal_dimension3','Diagnosis']],hue='Diagnosis')\n",
        "plt.show()"
      ],
      "metadata": {
        "id": "LaLx6FyNlbDR"
      },
      "execution_count": null,
      "outputs": []
    },
    {
      "cell_type": "code",
      "source": [
        "df.to_csv('breast_cancer_preprocessed.csv',index=False)"
      ],
      "metadata": {
        "id": "IhBRd3zqRU_i"
      },
      "execution_count": null,
      "outputs": []
    },
    {
      "cell_type": "code",
      "source": [
        "features = df.columns[:-1]\n",
        "features"
      ],
      "metadata": {
        "id": "DUw7mWSvZUrs"
      },
      "execution_count": null,
      "outputs": []
    },
    {
      "cell_type": "code",
      "source": [
        "target = df.columns[-1]\n",
        "target"
      ],
      "metadata": {
        "id": "ISbudPAfZUuJ"
      },
      "execution_count": null,
      "outputs": []
    },
    {
      "cell_type": "code",
      "source": [
        "from sklearn.model_selection import train_test_split\n",
        "from sklearn.linear_model import LogisticRegression\n",
        "from sklearn.svm import SVC\n",
        "from sklearn.ensemble import RandomForestClassifier\n",
        "from xgboost import XGBClassifier\n",
        "from sklearn.model_selection import GridSearchCV,RandomizedSearchCV,StratifiedKFold\n",
        "from sklearn.metrics import accuracy_score,confusion_matrix,classification_report\n",
        "from sklearn.preprocessing import StandardScaler\n",
        "from imblearn.over_sampling import SMOTE"
      ],
      "metadata": {
        "id": "oTrxGzLoMwph"
      },
      "execution_count": null,
      "outputs": []
    },
    {
      "cell_type": "markdown",
      "source": [
        "**SPLITTING THE DATA INTO 80% TRAINING DATA AND 20% TESTING DATA**"
      ],
      "metadata": {
        "id": "MB4OlZ1BoOwJ"
      }
    },
    {
      "cell_type": "code",
      "source": [
        "X_train,X_test,y_train,y_test = train_test_split(df[features],df[target],test_size=0.20,random_state=23)\n",
        "print(\"X_train\",X_train.shape)\n",
        "print(\"X_test\",X_test.shape)\n",
        "print(\"y_train\",y_train.shape)\n",
        "print(\"y_test\",y_test.shape)"
      ],
      "metadata": {
        "id": "vvhsYyMQDv6u"
      },
      "execution_count": null,
      "outputs": []
    },
    {
      "cell_type": "code",
      "source": [
        "train = pd.concat([X_train,y_train],axis=1)\n",
        "train"
      ],
      "metadata": {
        "id": "knGM8NC-pQXx"
      },
      "execution_count": null,
      "outputs": []
    },
    {
      "cell_type": "markdown",
      "source": [
        "**CHECKING IMBALANCE IN TRAINING DATA**"
      ],
      "metadata": {
        "id": "utAXMHpIwu-0"
      }
    },
    {
      "cell_type": "code",
      "source": [
        "train['Diagnosis'].value_counts()"
      ],
      "metadata": {
        "id": "2YKmCRQ0p2Zx"
      },
      "execution_count": null,
      "outputs": []
    },
    {
      "cell_type": "code",
      "source": [
        "sns.set(rc={'figure.figsize':(5,4)})\n",
        "sns.countplot(train,x='Diagnosis')\n",
        "plt.title(\"COUNT OF MALIGNANT (CLASS 1) AND BENIGN (CLASS 0) TUMORS IN TRAINING DATA\",fontdict=fontdict)\n",
        "plt.show()"
      ],
      "metadata": {
        "id": "Csw_qfB5p2dG"
      },
      "execution_count": null,
      "outputs": []
    },
    {
      "cell_type": "markdown",
      "source": [
        "**HANDLING IMBALANCE IN TRAINING DATA THROUGH SMOTE**"
      ],
      "metadata": {
        "id": "9TE66FV3wzS_"
      }
    },
    {
      "cell_type": "code",
      "source": [
        "smote = SMOTE()"
      ],
      "metadata": {
        "id": "-UtEhj3bp2fw"
      },
      "execution_count": null,
      "outputs": []
    },
    {
      "cell_type": "code",
      "source": [
        "np.random.seed(123)\n",
        "X_train,y_train = smote.fit_resample(X_train,y_train)"
      ],
      "metadata": {
        "id": "HlkxBiAh_0Mz"
      },
      "execution_count": null,
      "outputs": []
    },
    {
      "cell_type": "code",
      "source": [
        "print(X_train.shape)\n",
        "print(y_train.shape)"
      ],
      "metadata": {
        "id": "OJwHVGfl_20c"
      },
      "execution_count": null,
      "outputs": []
    },
    {
      "cell_type": "code",
      "source": [
        "X_train"
      ],
      "metadata": {
        "id": "CO8pGa1uvbg9"
      },
      "execution_count": null,
      "outputs": []
    },
    {
      "cell_type": "code",
      "source": [
        "y_train_df = pd.DataFrame(y_train)\n",
        "y_train_df"
      ],
      "metadata": {
        "id": "fQ3akFk6vdid"
      },
      "execution_count": null,
      "outputs": []
    },
    {
      "cell_type": "code",
      "source": [
        "labels,values = np.unique(y_train,return_counts=True)\n",
        "print(labels)\n",
        "print(values)"
      ],
      "metadata": {
        "id": "wkJisU4Jp2jC"
      },
      "execution_count": null,
      "outputs": []
    },
    {
      "cell_type": "code",
      "source": [
        "sns.set(rc={'figure.figsize':(5,4)})\n",
        "sns.countplot(y_train_df,x='Diagnosis')\n",
        "plt.title(\"COUNT OF MALIGNANT (CLASS 1) AND BENIGN (CLASS 0) TUMORS IN TRAINING DATA AFTER SMOTE\",fontdict=fontdict)\n",
        "plt.show()\n",
        "print()\n",
        "print(\"CLASS 0:\",values[0])\n",
        "print(\"CLASS 1:\",values[1])"
      ],
      "metadata": {
        "id": "IeFzoLPcp2mg"
      },
      "execution_count": null,
      "outputs": []
    },
    {
      "cell_type": "markdown",
      "source": [
        "**NORMALIZING THE DATA**"
      ],
      "metadata": {
        "id": "s4Rk_lnApVPr"
      }
    },
    {
      "cell_type": "code",
      "source": [
        "scaler = StandardScaler()\n",
        "X_train_scaled = scaler.fit_transform(X_train)\n",
        "X_train_scaled"
      ],
      "metadata": {
        "id": "XWhiMk96xKW1"
      },
      "execution_count": null,
      "outputs": []
    },
    {
      "cell_type": "code",
      "source": [
        "X_train.shape"
      ],
      "metadata": {
        "id": "FhC2SivtxcHD"
      },
      "execution_count": null,
      "outputs": []
    },
    {
      "cell_type": "code",
      "source": [
        "train_data = pd.DataFrame(X_train_scaled)\n",
        "train_data"
      ],
      "metadata": {
        "id": "wx-9rLU3TNOc"
      },
      "execution_count": null,
      "outputs": []
    },
    {
      "cell_type": "code",
      "source": [
        "train_data.to_csv('X_train.csv',index=False)"
      ],
      "metadata": {
        "id": "bUGgCxXHTZK7"
      },
      "execution_count": null,
      "outputs": []
    },
    {
      "cell_type": "code",
      "source": [
        "y_train_df = pd.DataFrame(y_train)\n",
        "y_train_df"
      ],
      "metadata": {
        "id": "3vzdhfvaTnRb"
      },
      "execution_count": null,
      "outputs": []
    },
    {
      "cell_type": "code",
      "source": [
        "y_train_df.to_csv('y_train.csv',index=False)"
      ],
      "metadata": {
        "id": "h_szCE0rTtV7"
      },
      "execution_count": null,
      "outputs": []
    },
    {
      "cell_type": "code",
      "source": [
        "X_test_scaled = scaler.transform(X_test)\n",
        "X_test_scaled"
      ],
      "metadata": {
        "id": "qwesi8SVxcK9"
      },
      "execution_count": null,
      "outputs": []
    },
    {
      "cell_type": "code",
      "source": [
        "X_test_scaled.shape"
      ],
      "metadata": {
        "id": "wfaTfzqNxcNG"
      },
      "execution_count": null,
      "outputs": []
    },
    {
      "cell_type": "code",
      "source": [
        "X_test_scaled_df = pd.DataFrame(X_test_scaled)\n",
        "X_test_scaled_df"
      ],
      "metadata": {
        "id": "YEdW0_9FUDCG"
      },
      "execution_count": null,
      "outputs": []
    },
    {
      "cell_type": "code",
      "source": [
        "X_test_scaled_df.to_csv('X_test.csv',index=False)"
      ],
      "metadata": {
        "id": "FdFwi7zuUJ7o"
      },
      "execution_count": null,
      "outputs": []
    },
    {
      "cell_type": "code",
      "source": [
        "y_test_df = pd.DataFrame(y_test)"
      ],
      "metadata": {
        "id": "EA0D0X6UxpvO"
      },
      "execution_count": null,
      "outputs": []
    },
    {
      "cell_type": "code",
      "source": [
        "y_test_df.to_csv('y_test.csv',index=False)"
      ],
      "metadata": {
        "id": "Oi_Jsed6Uy68"
      },
      "execution_count": null,
      "outputs": []
    },
    {
      "cell_type": "code",
      "source": [
        "y_test_df.value_counts()"
      ],
      "metadata": {
        "id": "vQCBs6nVx2Jt"
      },
      "execution_count": null,
      "outputs": []
    },
    {
      "cell_type": "code",
      "source": [
        "sns.countplot(y_test_df,x='Diagnosis')\n",
        "plt.title(\"COUNT OF MALIGNANT (CLASS 1) AND BENIGN (CLASS 0) TUMORS IN TESTING DATA\",fontdict=fontdict)\n",
        "plt.show()"
      ],
      "metadata": {
        "id": "aIfZv84hxtCr"
      },
      "execution_count": null,
      "outputs": []
    },
    {
      "cell_type": "markdown",
      "source": [
        "**LOGISTIC REGRESSION MODEL**"
      ],
      "metadata": {
        "id": "HWeormSVW66U"
      }
    },
    {
      "cell_type": "code",
      "source": [
        "model = LogisticRegression(random_state=12)\n",
        "param_grid = {'penalty':['l1', 'l2', 'elasticnet',None],'C':[0.001,0.01,0.1,1,10,20,40,60,80,100],'solver':['lbfgs', 'liblinear', 'newton-cg', 'newton-cholesky', 'sag', 'saga']}"
      ],
      "metadata": {
        "id": "XpgEs3f2XVaL"
      },
      "execution_count": null,
      "outputs": []
    },
    {
      "cell_type": "code",
      "source": [
        "model"
      ],
      "metadata": {
        "id": "hzCtYgO7P6m5"
      },
      "execution_count": null,
      "outputs": []
    },
    {
      "cell_type": "code",
      "source": [
        "model.fit(X_train_scaled,y_train)\n",
        "prediction = model.predict(X_train_scaled)\n",
        "prediction"
      ],
      "metadata": {
        "id": "8RozWJgTNurY"
      },
      "execution_count": null,
      "outputs": []
    },
    {
      "cell_type": "code",
      "source": [
        "print(accuracy_score(y_train,prediction))"
      ],
      "metadata": {
        "id": "yczoLt_2NuvR"
      },
      "execution_count": null,
      "outputs": []
    },
    {
      "cell_type": "code",
      "source": [
        "print(confusion_matrix(y_train,prediction))"
      ],
      "metadata": {
        "id": "qaMz4hhyNu11"
      },
      "execution_count": null,
      "outputs": []
    },
    {
      "cell_type": "code",
      "source": [
        "prediction = model.predict(X_test_scaled)\n",
        "prediction"
      ],
      "metadata": {
        "id": "wd1SmM5sNu64"
      },
      "execution_count": null,
      "outputs": []
    },
    {
      "cell_type": "code",
      "source": [
        "print(accuracy_score(y_test,prediction))"
      ],
      "metadata": {
        "id": "DIkyQYJ4N62U"
      },
      "execution_count": null,
      "outputs": []
    },
    {
      "cell_type": "code",
      "source": [
        "print(confusion_matrix(y_test,prediction))"
      ],
      "metadata": {
        "id": "9Ek6pttGN650"
      },
      "execution_count": null,
      "outputs": []
    },
    {
      "cell_type": "code",
      "source": [
        "cv = StratifiedKFold(shuffle=True)"
      ],
      "metadata": {
        "id": "9HihM5pZ0z4a"
      },
      "execution_count": null,
      "outputs": []
    },
    {
      "cell_type": "code",
      "source": [
        "grid = GridSearchCV(estimator=model,param_grid=param_grid,cv=cv,refit=True,verbose=3,scoring='accuracy')\n",
        "grid.fit(X_train_scaled,y_train)"
      ],
      "metadata": {
        "id": "GHMCirEQ0wos",
        "collapsed": true
      },
      "execution_count": null,
      "outputs": []
    },
    {
      "cell_type": "code",
      "source": [
        "grid.best_params_"
      ],
      "metadata": {
        "id": "uXjx5Y6p2FNi"
      },
      "execution_count": null,
      "outputs": []
    },
    {
      "cell_type": "code",
      "source": [
        "grid.best_score_"
      ],
      "metadata": {
        "id": "nYcuvv2_2FTQ"
      },
      "execution_count": null,
      "outputs": []
    },
    {
      "cell_type": "code",
      "source": [
        "best_model = grid.best_estimator_\n",
        "best_model"
      ],
      "metadata": {
        "id": "RHlW7A2x52Iz"
      },
      "execution_count": null,
      "outputs": []
    },
    {
      "cell_type": "code",
      "source": [
        "print(\"Training Accuracy\")\n",
        "print(accuracy_score(y_train,best_model.predict(X_train_scaled)))"
      ],
      "metadata": {
        "id": "RstwkuvEBCUq"
      },
      "execution_count": null,
      "outputs": []
    },
    {
      "cell_type": "code",
      "source": [
        "print(\"Training Confusion Matrix\")\n",
        "print(confusion_matrix(y_train,best_model.predict(X_train_scaled)))"
      ],
      "metadata": {
        "id": "G_Z7jKnvA-_M"
      },
      "execution_count": null,
      "outputs": []
    },
    {
      "cell_type": "code",
      "source": [
        "print(\"Training Classification Report\")\n",
        "print(classification_report(y_train,best_model.predict(X_train_scaled)))"
      ],
      "metadata": {
        "id": "v1HTcM77BjO6"
      },
      "execution_count": null,
      "outputs": []
    },
    {
      "cell_type": "code",
      "source": [
        "prediction = best_model.predict(X_test_scaled)\n",
        "prediction"
      ],
      "metadata": {
        "id": "arZp4WTt2FXo"
      },
      "execution_count": null,
      "outputs": []
    },
    {
      "cell_type": "code",
      "source": [
        "print(\"Testing Accuracy\")\n",
        "print(accuracy_score(y_test,prediction))"
      ],
      "metadata": {
        "id": "PG1rPaOc2240"
      },
      "execution_count": null,
      "outputs": []
    },
    {
      "cell_type": "code",
      "source": [
        "print(\"Testing Confusion Matrix\")\n",
        "print(confusion_matrix(y_test,prediction))"
      ],
      "metadata": {
        "id": "p1IzQhfE2275"
      },
      "execution_count": null,
      "outputs": []
    },
    {
      "cell_type": "code",
      "source": [
        "print(\"Testing Classification Report\")\n",
        "print(classification_report(y_test,prediction))"
      ],
      "metadata": {
        "id": "Bji_e5LQ28zP"
      },
      "execution_count": null,
      "outputs": []
    },
    {
      "cell_type": "markdown",
      "source": [
        "SAVING THE LOGISTIC REGRESSION MODEL"
      ],
      "metadata": {
        "id": "1ws6bV7k7fmy"
      }
    },
    {
      "cell_type": "code",
      "source": [
        "import joblib"
      ],
      "metadata": {
        "id": "rSsZMApY7T39"
      },
      "execution_count": null,
      "outputs": []
    },
    {
      "cell_type": "code",
      "source": [
        "joblib.dump(best_model, 'logistic_regression_model.joblib')"
      ],
      "metadata": {
        "id": "Iz1U5C6n7ldD"
      },
      "execution_count": null,
      "outputs": []
    },
    {
      "cell_type": "code",
      "source": [
        "loaded_model_logistic = joblib.load('logistic_regression_model.joblib')"
      ],
      "metadata": {
        "id": "nvOCq2F17lge"
      },
      "execution_count": null,
      "outputs": []
    },
    {
      "cell_type": "markdown",
      "source": [
        "**RANDOM FOREST**"
      ],
      "metadata": {
        "id": "ihJrG9A2bQ3X"
      }
    },
    {
      "cell_type": "code",
      "source": [
        "classifier = RandomForestClassifier(random_state=14)\n",
        "param_grid = {'n_estimators':[20,40,60,80,100],'criterion':['gini', 'entropy', 'log_loss'],'max_depth':[1,2,3,4,None],'min_samples_split':[1,2,3],'min_samples_leaf':[1,2,3],'max_features':['sqrt', 'log2', None]}"
      ],
      "metadata": {
        "id": "39BFQjYZbYri"
      },
      "execution_count": null,
      "outputs": []
    },
    {
      "cell_type": "code",
      "source": [
        "classifier.fit(X_train_scaled,y_train)\n",
        "prediction = classifier.predict(X_train_scaled)\n",
        "prediction"
      ],
      "metadata": {
        "id": "D2EQn83wNE34"
      },
      "execution_count": null,
      "outputs": []
    },
    {
      "cell_type": "code",
      "source": [
        "print(accuracy_score(y_train,prediction))"
      ],
      "metadata": {
        "id": "md1XocpHNjbo"
      },
      "execution_count": null,
      "outputs": []
    },
    {
      "cell_type": "code",
      "source": [
        "print(confusion_matrix(y_train,prediction))"
      ],
      "metadata": {
        "id": "YgROCBgONE7A"
      },
      "execution_count": null,
      "outputs": []
    },
    {
      "cell_type": "code",
      "source": [
        "prediction = classifier.predict(X_test_scaled)\n",
        "prediction"
      ],
      "metadata": {
        "id": "zhSxCXsxNS8w"
      },
      "execution_count": null,
      "outputs": []
    },
    {
      "cell_type": "code",
      "source": [
        "print(accuracy_score(y_test,prediction))"
      ],
      "metadata": {
        "id": "B7NNohoENqMp"
      },
      "execution_count": null,
      "outputs": []
    },
    {
      "cell_type": "code",
      "source": [
        "print(confusion_matrix(y_test,prediction))"
      ],
      "metadata": {
        "id": "WqcLKn9XNTBq"
      },
      "execution_count": null,
      "outputs": []
    },
    {
      "cell_type": "code",
      "source": [
        "cv = StratifiedKFold(shuffle=True)"
      ],
      "metadata": {
        "id": "lN9XakeFfYBi"
      },
      "execution_count": null,
      "outputs": []
    },
    {
      "cell_type": "code",
      "source": [
        "grid = GridSearchCV(estimator=classifier,param_grid=param_grid,cv=cv,refit=True,verbose=3,scoring='accuracy')\n",
        "grid.fit(X_train_scaled,y_train)"
      ],
      "metadata": {
        "id": "oa6JckSsfYFR",
        "collapsed": true
      },
      "execution_count": null,
      "outputs": []
    },
    {
      "cell_type": "code",
      "source": [
        "grid.best_params_"
      ],
      "metadata": {
        "id": "ajecWC4ufYI7"
      },
      "execution_count": null,
      "outputs": []
    },
    {
      "cell_type": "code",
      "source": [
        "grid.best_score_"
      ],
      "metadata": {
        "id": "BjVzSLn6fYMj"
      },
      "execution_count": null,
      "outputs": []
    },
    {
      "cell_type": "code",
      "source": [
        "best_model = grid.best_estimator_\n",
        "best_model"
      ],
      "metadata": {
        "id": "R_1z49RyfYQy"
      },
      "execution_count": null,
      "outputs": []
    },
    {
      "cell_type": "code",
      "source": [
        "print(\"Training Accuracy\")\n",
        "print(accuracy_score(y_train,best_model.predict(X_train_scaled)))"
      ],
      "metadata": {
        "id": "7gOFNVwAIuRB"
      },
      "execution_count": null,
      "outputs": []
    },
    {
      "cell_type": "code",
      "source": [
        "print(\"Training Confusion Matrix\")\n",
        "print(confusion_matrix(y_train,best_model.predict(X_train_scaled)))"
      ],
      "metadata": {
        "id": "8g_9YPp_IuTw"
      },
      "execution_count": null,
      "outputs": []
    },
    {
      "cell_type": "code",
      "source": [
        "print(\"Training Classification Report\")\n",
        "print(classification_report(y_train,best_model.predict(X_train_scaled)))"
      ],
      "metadata": {
        "id": "SG-G4c1rIuWM"
      },
      "execution_count": null,
      "outputs": []
    },
    {
      "cell_type": "code",
      "source": [
        "prediction = best_model.predict(X_test_scaled)\n",
        "prediction"
      ],
      "metadata": {
        "id": "olUTDreSfYV5"
      },
      "execution_count": null,
      "outputs": []
    },
    {
      "cell_type": "code",
      "source": [
        "print(\"Testing Accuracy\")\n",
        "print(accuracy_score(y_test,prediction))"
      ],
      "metadata": {
        "id": "Ui3V4rg5fYcK"
      },
      "execution_count": null,
      "outputs": []
    },
    {
      "cell_type": "code",
      "source": [
        "print(\"Testing Confusion Matrix\")\n",
        "print(confusion_matrix(y_test,prediction))"
      ],
      "metadata": {
        "id": "92WZsQtyMEiV"
      },
      "execution_count": null,
      "outputs": []
    },
    {
      "cell_type": "code",
      "source": [
        "print(\"Testing Classification Report\")\n",
        "print(classification_report(y_test,prediction))"
      ],
      "metadata": {
        "id": "J5EUbMbfMEmA"
      },
      "execution_count": null,
      "outputs": []
    },
    {
      "cell_type": "markdown",
      "source": [
        "SAVING THE RANDOM FOREST MODEL"
      ],
      "metadata": {
        "id": "Xj4oca0be4ks"
      }
    },
    {
      "cell_type": "code",
      "source": [
        "joblib.dump(best_model, 'random_forest_model.joblib')"
      ],
      "metadata": {
        "id": "8Rm4DpzkMEqa"
      },
      "execution_count": null,
      "outputs": []
    },
    {
      "cell_type": "code",
      "source": [
        "loaded_model_random_forest = joblib.load('random_forest_model.joblib')"
      ],
      "metadata": {
        "id": "2zDMxGaCMjxs"
      },
      "execution_count": null,
      "outputs": []
    },
    {
      "cell_type": "markdown",
      "source": [
        "**XGBOOST**"
      ],
      "metadata": {
        "id": "NIPmkxoXXD9p"
      }
    },
    {
      "cell_type": "code",
      "source": [
        "from xgboost import XGBClassifier"
      ],
      "metadata": {
        "id": "I9oRvgR4aCfd"
      },
      "execution_count": null,
      "outputs": []
    },
    {
      "cell_type": "code",
      "source": [
        "xgb = XGBClassifier(random_state=14)\n",
        "xgb.fit(X_train_scaled,y_train)"
      ],
      "metadata": {
        "id": "Qtmj9vSzzG3c"
      },
      "execution_count": null,
      "outputs": []
    },
    {
      "cell_type": "code",
      "source": [
        "prediction = xgb.predict(X_train_scaled)\n",
        "prediction"
      ],
      "metadata": {
        "id": "9bQyPU6XzG6B"
      },
      "execution_count": null,
      "outputs": []
    },
    {
      "cell_type": "code",
      "source": [
        "print(accuracy_score(y_train,prediction))"
      ],
      "metadata": {
        "id": "5E4bynZEzG8r"
      },
      "execution_count": null,
      "outputs": []
    },
    {
      "cell_type": "code",
      "source": [
        "print(confusion_matrix(y_train,prediction))"
      ],
      "metadata": {
        "id": "78pPI4RQzG_i"
      },
      "execution_count": null,
      "outputs": []
    },
    {
      "cell_type": "code",
      "source": [
        "prediction = xgb.predict(X_test_scaled)\n",
        "prediction"
      ],
      "metadata": {
        "id": "2melhGwj4vqB"
      },
      "execution_count": null,
      "outputs": []
    },
    {
      "cell_type": "code",
      "source": [
        "print(accuracy_score(y_test,prediction))"
      ],
      "metadata": {
        "id": "RD8o_bsJ4vts"
      },
      "execution_count": null,
      "outputs": []
    },
    {
      "cell_type": "code",
      "source": [
        "print(confusion_matrix(y_test,prediction))"
      ],
      "metadata": {
        "id": "hB5K0QBH4vxZ"
      },
      "execution_count": null,
      "outputs": []
    },
    {
      "cell_type": "code",
      "source": [
        "cv = StratifiedKFold(shuffle=True)"
      ],
      "metadata": {
        "id": "YvJLIq4u4v1N"
      },
      "execution_count": null,
      "outputs": []
    },
    {
      "cell_type": "code",
      "source": [
        "param_grid = {'learning_rate':[0.2,0.3,0.4,0.5],'gamma':[0,1,4],'max_depth':[2,4,6,8],'min_child_weight':[0,2,4],'subsample':[0.5,1],'lambda':[0.2,0.5,1]}"
      ],
      "metadata": {
        "id": "O8ErTyH948Sj"
      },
      "execution_count": null,
      "outputs": []
    },
    {
      "cell_type": "code",
      "source": [
        "grid = GridSearchCV(estimator=xgb,param_grid=param_grid,cv=cv,refit=True,verbose=3,scoring='accuracy')\n",
        "grid.fit(X_train_scaled,y_train)"
      ],
      "metadata": {
        "id": "4m15sEJe48V0",
        "collapsed": true
      },
      "execution_count": null,
      "outputs": []
    },
    {
      "cell_type": "code",
      "source": [
        "grid.best_params_"
      ],
      "metadata": {
        "id": "dKF0K70348bW"
      },
      "execution_count": null,
      "outputs": []
    },
    {
      "cell_type": "code",
      "source": [
        "grid.best_score_"
      ],
      "metadata": {
        "id": "N8o7YLxS48ef"
      },
      "execution_count": null,
      "outputs": []
    },
    {
      "cell_type": "code",
      "source": [
        "best_model = grid.best_estimator_\n",
        "best_model"
      ],
      "metadata": {
        "id": "B4LRCieT48iE"
      },
      "execution_count": null,
      "outputs": []
    },
    {
      "cell_type": "code",
      "source": [
        "print(\"Training Accuracy\")\n",
        "print(accuracy_score(y_train,best_model.predict(X_train_scaled)))"
      ],
      "metadata": {
        "id": "dK-SYX9rMI_c"
      },
      "execution_count": null,
      "outputs": []
    },
    {
      "cell_type": "code",
      "source": [
        "print(\"Training Confusion Matrix\")\n",
        "print(confusion_matrix(y_train,best_model.predict(X_train_scaled)))"
      ],
      "metadata": {
        "id": "EyWKZW84MJCm"
      },
      "execution_count": null,
      "outputs": []
    },
    {
      "cell_type": "code",
      "source": [
        "print(\"Training Classification Report\")\n",
        "print(classification_report(y_train,best_model.predict(X_train_scaled)))"
      ],
      "metadata": {
        "id": "fVFNz6j0MJGq"
      },
      "execution_count": null,
      "outputs": []
    },
    {
      "cell_type": "code",
      "source": [
        "prediction = best_model.predict(X_test_scaled)\n",
        "prediction"
      ],
      "metadata": {
        "id": "dSlf1qzL-j5P"
      },
      "execution_count": null,
      "outputs": []
    },
    {
      "cell_type": "code",
      "source": [
        "print(\"Testing Accuracy\")\n",
        "print(accuracy_score(y_test,prediction))"
      ],
      "metadata": {
        "id": "6R1XHuVW-j9R"
      },
      "execution_count": null,
      "outputs": []
    },
    {
      "cell_type": "code",
      "source": [
        "print(\"Testing Confusion Matrix\")\n",
        "print(confusion_matrix(y_test,prediction))"
      ],
      "metadata": {
        "id": "2UwqFk3y-kAH"
      },
      "execution_count": null,
      "outputs": []
    },
    {
      "cell_type": "code",
      "source": [
        "print(\"Testing Classification Report\")\n",
        "print(classification_report(y_test,prediction))"
      ],
      "metadata": {
        "id": "hSMV9LAy-kEb"
      },
      "execution_count": null,
      "outputs": []
    },
    {
      "cell_type": "markdown",
      "source": [
        "SAVING THE EXTREME GRADIENT BOOSTING (XGB) MODEL"
      ],
      "metadata": {
        "id": "Yt5xBJrxfVj3"
      }
    },
    {
      "cell_type": "code",
      "source": [
        "joblib.dump(best_model, 'xgb_model.joblib')"
      ],
      "metadata": {
        "id": "IzX5hhWzfaGy"
      },
      "execution_count": null,
      "outputs": []
    },
    {
      "cell_type": "code",
      "source": [
        "loaded_model_xgb = joblib.load('xgb_model.joblib')"
      ],
      "metadata": {
        "id": "moOSHQU-faJs"
      },
      "execution_count": null,
      "outputs": []
    },
    {
      "cell_type": "markdown",
      "source": [
        "**SVM**"
      ],
      "metadata": {
        "id": "YIgu3Ov-NWYr"
      }
    },
    {
      "cell_type": "code",
      "source": [
        "from sklearn.svm import SVC"
      ],
      "metadata": {
        "id": "SW0d99r9NXkN"
      },
      "execution_count": null,
      "outputs": []
    },
    {
      "cell_type": "code",
      "source": [
        "svm = SVC()\n",
        "svm.fit(X_train_scaled,y_train)"
      ],
      "metadata": {
        "id": "LVVLTS-kB1B2"
      },
      "execution_count": null,
      "outputs": []
    },
    {
      "cell_type": "code",
      "source": [
        "prediction = svm.predict(X_train_scaled)\n",
        "prediction"
      ],
      "metadata": {
        "id": "73pm1beTB1E1"
      },
      "execution_count": null,
      "outputs": []
    },
    {
      "cell_type": "code",
      "source": [
        "print(accuracy_score(y_train,prediction))"
      ],
      "metadata": {
        "id": "T8SFv2QvB1H9"
      },
      "execution_count": null,
      "outputs": []
    },
    {
      "cell_type": "code",
      "source": [
        "print(confusion_matrix(y_train,prediction))"
      ],
      "metadata": {
        "id": "WtgrNJLeB1Lf"
      },
      "execution_count": null,
      "outputs": []
    },
    {
      "cell_type": "code",
      "source": [
        "prediction = svm.predict(X_test_scaled)\n",
        "prediction"
      ],
      "metadata": {
        "id": "RyWMDZGhgGAA"
      },
      "execution_count": null,
      "outputs": []
    },
    {
      "cell_type": "code",
      "source": [
        "print(accuracy_score(y_test,prediction))"
      ],
      "metadata": {
        "id": "LpollwiXgGDA"
      },
      "execution_count": null,
      "outputs": []
    },
    {
      "cell_type": "code",
      "source": [
        "print(confusion_matrix(y_test,prediction))"
      ],
      "metadata": {
        "id": "0u0kZ30PgGGc"
      },
      "execution_count": null,
      "outputs": []
    },
    {
      "cell_type": "code",
      "source": [
        "param_grid = {'C':[0.5,1,1.5,2,3],'kernel':['linear', 'poly', 'rbf', 'sigmoid'],'degree':[1,2,3,4],'gamma':[0.5,1,2,'scale', 'auto']}"
      ],
      "metadata": {
        "id": "2xPQci7BgGJ7"
      },
      "execution_count": null,
      "outputs": []
    },
    {
      "cell_type": "code",
      "source": [
        "cv = StratifiedKFold(shuffle=True)"
      ],
      "metadata": {
        "id": "9ExVpx7PgGNh"
      },
      "execution_count": null,
      "outputs": []
    },
    {
      "cell_type": "code",
      "source": [
        "grid = GridSearchCV(estimator=svm,param_grid=param_grid,cv=cv,refit=True,verbose=3,scoring='accuracy')\n",
        "grid.fit(X_train_scaled,y_train)"
      ],
      "metadata": {
        "collapsed": true,
        "id": "pGcFdTU0gGQo"
      },
      "execution_count": null,
      "outputs": []
    },
    {
      "cell_type": "code",
      "source": [
        "grid.best_params_"
      ],
      "metadata": {
        "id": "a5GOs4eIgGUf"
      },
      "execution_count": null,
      "outputs": []
    },
    {
      "cell_type": "code",
      "source": [
        "grid.best_score_"
      ],
      "metadata": {
        "id": "_8k7EuKsgGYJ"
      },
      "execution_count": null,
      "outputs": []
    },
    {
      "cell_type": "code",
      "source": [
        "best_model = grid.best_estimator_\n",
        "best_model"
      ],
      "metadata": {
        "id": "soLKtGkAgGb5"
      },
      "execution_count": null,
      "outputs": []
    },
    {
      "cell_type": "code",
      "source": [
        "print(\"Training Accuracy\")\n",
        "print(accuracy_score(y_train,best_model.predict(X_train_scaled)))"
      ],
      "metadata": {
        "id": "HD-daWidM6N3"
      },
      "execution_count": null,
      "outputs": []
    },
    {
      "cell_type": "code",
      "source": [
        "print(\"Training Confusion Matrix\")\n",
        "print(confusion_matrix(y_train,best_model.predict(X_train_scaled)))"
      ],
      "metadata": {
        "id": "MjfSRYDxM6Th"
      },
      "execution_count": null,
      "outputs": []
    },
    {
      "cell_type": "code",
      "source": [
        "print(\"Training Classification Report\")\n",
        "print(classification_report(y_train,best_model.predict(X_train_scaled)))"
      ],
      "metadata": {
        "id": "HcSI1nQ4M6Wb"
      },
      "execution_count": null,
      "outputs": []
    },
    {
      "cell_type": "code",
      "source": [
        "prediction = best_model.predict(X_test_scaled)\n",
        "prediction"
      ],
      "metadata": {
        "id": "PWFqn13cgGfc"
      },
      "execution_count": null,
      "outputs": []
    },
    {
      "cell_type": "code",
      "source": [
        "print(\"Testing Accuracy\")\n",
        "print(accuracy_score(y_test,prediction))"
      ],
      "metadata": {
        "id": "Zttcsz9Ph35y"
      },
      "execution_count": null,
      "outputs": []
    },
    {
      "cell_type": "code",
      "source": [
        "print(\"Testing Confusion Matrix\")\n",
        "print(confusion_matrix(y_test,prediction))"
      ],
      "metadata": {
        "id": "iipvHtRJh38v"
      },
      "execution_count": null,
      "outputs": []
    },
    {
      "cell_type": "code",
      "source": [
        "print(\"Testing Classification Report\")\n",
        "print(classification_report(y_test,prediction))"
      ],
      "metadata": {
        "id": "hJ3pYP5Fh3_h"
      },
      "execution_count": null,
      "outputs": []
    },
    {
      "cell_type": "markdown",
      "source": [
        "SAVING THE SUPPORT VECTOR MACHINE (SVM) MODEL"
      ],
      "metadata": {
        "id": "w6n5Y2gAjLnp"
      }
    },
    {
      "cell_type": "code",
      "source": [
        "joblib.dump(best_model, 'svm_model.joblib')"
      ],
      "metadata": {
        "id": "EoJDe3Sdh4C5"
      },
      "execution_count": null,
      "outputs": []
    },
    {
      "cell_type": "code",
      "source": [
        "loaded_model_svm = joblib.load('svm_model.joblib')"
      ],
      "metadata": {
        "id": "CBPxLE4uh4F7"
      },
      "execution_count": null,
      "outputs": []
    },
    {
      "cell_type": "markdown",
      "source": [
        "**OUTCOME:**\n",
        "**Extreme Gradient Boosting (XGB) model gives the best performance.**"
      ],
      "metadata": {
        "id": "K47L8ZgGCJE7"
      }
    }
  ]
}